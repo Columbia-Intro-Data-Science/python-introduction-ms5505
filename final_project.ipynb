{
 "cells": [
  {
   "cell_type": "code",
   "execution_count": 31,
   "metadata": {},
   "outputs": [],
   "source": [
    "import findspark\n",
    "findspark.init()\n",
    "import pyspark\n",
    "from pyspark.sql import Row\n",
    "from pyspark.sql.types import *\n",
    "from pyspark.sql import SparkSession\n",
    "import numpy as np\n",
    "import pandas as pd\n",
    "import scipy.sparse as sp\n",
    "from collections import OrderedDict\n",
    "from collections import defaultdict\n",
    "import pickle\n",
    "import matplotlib.pyplot as plt\n",
    "%matplotlib inline"
   ]
  },
  {
   "cell_type": "code",
   "execution_count": 2,
   "metadata": {},
   "outputs": [],
   "source": [
    "spark = SparkSession.builder.appName(\"PySpark SQL\").getOrCreate()\n",
    "sc = spark.sparkContext"
   ]
  },
  {
   "cell_type": "code",
   "execution_count": 3,
   "metadata": {},
   "outputs": [],
   "source": [
    "df_review = spark.read.json(\"review.json\")\n",
    "df_biz = spark.read.json(\"business.json\")"
   ]
  },
  {
   "cell_type": "code",
   "execution_count": 6,
   "metadata": {},
   "outputs": [],
   "source": [
    "# get business_id and categories of businesses in Las Vegas with at least 3.5 stars and has more than 10 reviews\n",
    "b = df_biz.select('business_id', 'name', 'categories').distinct() \\\n",
    "         .filter(df_biz.postal_code.startswith('89')) \\\n",
    "         .filter((df_biz.stars >= 3.5) & (df_biz.review_count > 10))"
   ]
  },
  {
   "cell_type": "markdown",
   "metadata": {},
   "source": [
    "### Filter out businesses that are not actually restaurants upon inspection"
   ]
  },
  {
   "cell_type": "code",
   "execution_count": 20,
   "metadata": {},
   "outputs": [],
   "source": [
    "from pyspark.sql.functions import array_contains\n",
    "restaurant_data = b.filter(array_contains(b['categories'], 'Restaurants'))"
   ]
  },
  {
   "cell_type": "code",
   "execution_count": 8,
   "metadata": {},
   "outputs": [],
   "source": [
    "def get_categories(data):\n",
    "    categories = restaurant_data.select('categories').collect()\n",
    "    categories_count = {}\n",
    "    for item in categories: \n",
    "        for i in item: \n",
    "            for x in i:\n",
    "                if x in categories_count:\n",
    "                    categories_count[x] += 1\n",
    "                else: \n",
    "                    categories_count[x] = 1\n",
    "    return (categories_count)"
   ]
  },
  {
   "cell_type": "code",
   "execution_count": 9,
   "metadata": {},
   "outputs": [],
   "source": [
    "category_attributes = get_categories(restaurant_data)"
   ]
  },
  {
   "cell_type": "code",
   "execution_count": 10,
   "metadata": {},
   "outputs": [],
   "source": [
    "# Get rid of categories (usually non-restaurant related) that only appear once\n",
    "category_attributes = { k:v for k, v in category_attributes.items() if v==1 }"
   ]
  },
  {
   "cell_type": "code",
   "execution_count": 12,
   "metadata": {},
   "outputs": [],
   "source": [
    "# Filter further for establishments that are not actually restaurants based on further inspection\n",
    "remove_list = ['Fast Food','Public Services & Government', 'Hotels', 'Hostels', 'Hotels & Travel', 'Historical Tours', 'Walking Tours', 'Tours',\n",
    "               'Wedding Chapels', 'Adult Entertainment', 'Airports', 'Airsoft', 'Amusement Parks', 'Antiques', 'Appliances', 'Active Life','Appliances & Repair', 'Auto Glass Services', 'Auto Repair', 'Automotive', 'Beauty & Spas', \n",
    "               'Bed & Breakfast', 'Bridal', 'Business Consulting', 'Caterers', 'Convenience Stores', 'Cosmetics & Beauty Supply', 'Department Stores', 'Doctors', 'Drugstores', 'Education', \n",
    "               'Ethical Grocery', 'Ethnic Grocery', 'Farmers Market', 'Fashion', 'Fitness & Instruction', 'Flowers & Gifts', 'Furniture Stores', 'Gas Stations', 'Golf', 'Grocery', 'Hair Salons', \n",
    "               'Health & Medical', 'Health Markets', 'Heating & Air Conditioning/HVAC', 'Home & Garden', 'Home Cleaning', 'Home Decor', 'Home Services', 'International Grocery',  'Internet Cafes', \n",
    "               'Kitchen & Bath', 'Local Services', 'Mags', 'Massage', \"Men's Clothing\", 'Music & Video',  'Nail Salons', 'Nutritionists','Paint & Sip', 'Party Supplies', 'Party Supplies', 'Pet Services', \n",
    "               'Pet Stores', 'Pets', 'Playgrounds',  'Plumbing', 'Printing Services', 'Professional Services', 'Restaurant Supplies', 'Screen Printing', 'Shopping Centers', 'Transportation', 'Wedding Planning', \n",
    "               'Weight Loss Centers', 'Wholesalers', \"Women's Clothing\", 'Zoos', 'RV Parks', 'Acupuncture','Airport Shuttles', 'Amusement Parks', 'Animal Shelters', 'Appliances & Repair', 'Aquarium Services',\n",
    "               'Aquariums', 'Art Classes', 'Art Galleries', 'Auto Customization', 'Auto Insurance', 'Auto Parts & Supplies','Baby Gear & Furniture', 'Bar Crawl', 'Beverage Store', 'Bingo Halls', 'Bowling', 'Car Dealers', 'Car Rental',\n",
    "               'Car Wash', 'Car Window Tinting', 'Cheese Shops','Computers', 'Country Dance Halls','Dinner Theater', 'Doctors','Drive-Thru Bars', 'Dry Cleaning', 'Eyebrow Services', 'Financial Services', 'Fitness & Instruction',\n",
    "               'Florists', 'Food Tours', 'Furniture Stores', 'Gift Shops', 'Gun/Rifle Ranges', 'Gyms', 'Hobby Shops','Home Cleaning', 'Home Decor', 'Horseback Riding', 'Hostels', 'IT Services & Computer Repair', 'Insurance',\n",
    "               'Laundry Services', 'Limos', 'Local Fish Stores', 'Makeup Artists', 'Martial Arts', 'Massage Therapy',\"Men's Clothing\", 'Nail Salons', 'Newspapers & Magazines', 'Nutritionists', 'Occupational Therapy', 'Oil Change Stations','Party Bus Rentals', 'Party Supplies', 'Personal Assistants','Personal Shopping', 'Pet Adoption',\n",
    "               'Physical Therapy', 'Plumbing', 'Recreation Centers','Reflexology', 'Rehabilitation Center', 'Restaurant Supplies','Security Services', 'Signmaking', 'Ski Resorts', 'Special Education', 'Towing', 'Trainers', 'Transmission Repair',\n",
    "               'Transportation', 'Travel Services', 'Truck Rental', 'Vacation Rentals', 'Vehicle Wraps', 'Videos & Video Game Rental','Vitamins & Supplements', 'Walking Tours', 'Water Stores', 'Wholesale Stores', 'Wholesalers', 'Windshield Installation & Repair', \"Women's Clothing\"]"
   ]
  },
  {
   "cell_type": "code",
   "execution_count": 21,
   "metadata": {},
   "outputs": [],
   "source": [
    "# Remove non-restaurants businesses and fast foods\n",
    "def remove_biz(restaurant_data, remove_list):\n",
    "    biz_cat = restaurant_data.select('business_id', 'categories').collect()\n",
    "    restaurant_ids = []\n",
    "    for ids, cat in biz_cat: \n",
    "        if set(cat).isdisjoint(set(remove_list)):\n",
    "            restaurant_ids.append(ids)\n",
    "    return (restaurant_ids)\n",
    "\n",
    "filtered_ids = set(remove_biz(restaurant_data, remove_list))"
   ]
  },
  {
   "cell_type": "code",
   "execution_count": 22,
   "metadata": {},
   "outputs": [],
   "source": [
    "# Final dataframe of restaurants we're interested in \n",
    "df_LV = df_biz.filter(df_biz.business_id.isin(filtered_ids))"
   ]
  },
  {
   "cell_type": "code",
   "execution_count": 23,
   "metadata": {},
   "outputs": [],
   "source": [
    "# Remove chain restaurants\n",
    "name_count = df_LV.groupBy('name').count()\n",
    "filtered_names = name_count.select('name').filter(name_count['count'] <= 2)\n",
    "filtered_names = [i.name for i in filtered_names.collect()]"
   ]
  },
  {
   "cell_type": "code",
   "execution_count": 24,
   "metadata": {},
   "outputs": [],
   "source": [
    "# Final dataframe of restaurants we're interested in \n",
    "df_LV = df_biz.filter((df_biz.business_id.isin(filtered_ids)) & (df_biz.name.isin(filtered_names)))"
   ]
  },
  {
   "cell_type": "markdown",
   "metadata": {},
   "source": [
    "### Prepare data"
   ]
  },
  {
   "cell_type": "code",
   "execution_count": 27,
   "metadata": {},
   "outputs": [],
   "source": [
    "restaurant_data = df_LV.select('business_id', 'name', 'categories')"
   ]
  },
  {
   "cell_type": "code",
   "execution_count": 28,
   "metadata": {},
   "outputs": [],
   "source": [
    "filtered_restaurants = [i.business_id for i in restaurant_data.collect()]"
   ]
  },
  {
   "cell_type": "code",
   "execution_count": 29,
   "metadata": {},
   "outputs": [],
   "source": [
    "# Create dict of business_id and name\n",
    "def restaurant_map(restaurant_data):\n",
    "    data = restaurant_data.select('business_id', 'name').collect()\n",
    "    id_name_map = {}\n",
    "    for ID, name in data:\n",
    "        id_name_map[ID] = name\n",
    "    return id_name_map\n",
    "\n",
    "id_name_map = restaurant_map(restaurant_data)"
   ]
  },
  {
   "cell_type": "code",
   "execution_count": 35,
   "metadata": {},
   "outputs": [],
   "source": [
    "# Get ratings data\n",
    "ratings = df_review.select('business_id', 'user_id', 'stars') \\\n",
    "                    .filter(df_review.business_id.isin(filtered_restaurants))"
   ]
  },
  {
   "cell_type": "code",
   "execution_count": 36,
   "metadata": {},
   "outputs": [],
   "source": [
    "# Convert Spark dataframe to Pandas\n",
    "ratings_pd = ratings.toPandas()\n",
    "ratings_pd = ratings_pd[['user_id', 'business_id', 'stars']]"
   ]
  },
  {
   "cell_type": "code",
   "execution_count": 40,
   "metadata": {},
   "outputs": [],
   "source": [
    "review_count = ratings_pd.groupby('user_id')['business_id'].count()"
   ]
  },
  {
   "cell_type": "code",
   "execution_count": 42,
   "metadata": {},
   "outputs": [
    {
     "data": {
      "text/plain": [
       "count    278296.000000\n",
       "mean          2.447513\n",
       "std           6.144866\n",
       "min           1.000000\n",
       "25%           1.000000\n",
       "50%           1.000000\n",
       "75%           2.000000\n",
       "max         926.000000\n",
       "Name: business_id, dtype: float64"
      ]
     },
     "execution_count": 42,
     "metadata": {},
     "output_type": "execute_result"
    }
   ],
   "source": [
    "review_count.describe()"
   ]
  },
  {
   "cell_type": "code",
   "execution_count": 47,
   "metadata": {},
   "outputs": [
    {
     "data": {
      "text/plain": [
       "316    1\n",
       "324    1\n",
       "341    1\n",
       "342    1\n",
       "364    1\n",
       "381    1\n",
       "406    1\n",
       "424    1\n",
       "589    1\n",
       "926    1\n",
       "Name: business_id, dtype: int64"
      ]
     },
     "execution_count": 47,
     "metadata": {},
     "output_type": "execute_result"
    }
   ],
   "source": [
    "# check out the people who have left the most amount of reviews for Vegas restaurants\n",
    "review_count.value_counts().sort_index().tail(10)"
   ]
  },
  {
   "cell_type": "code",
   "execution_count": 48,
   "metadata": {},
   "outputs": [],
   "source": [
    "prop = review_count.value_counts(normalize = True).head(10)"
   ]
  },
  {
   "cell_type": "code",
   "execution_count": 49,
   "metadata": {},
   "outputs": [
    {
     "data": {
      "text/plain": [
       "<matplotlib.text.Text at 0x128d62518>"
      ]
     },
     "execution_count": 49,
     "metadata": {},
     "output_type": "execute_result"
    },
    {
     "data": {
      "image/png": "[encoded data removed]",
      "text/plain": [
       "<matplotlib.figure.Figure at 0x1097ce4a8>"
      ]
     },
     "metadata": {},
     "output_type": "display_data"
    }
   ],
   "source": [
    "ax = prop.plot(kind = 'bar', figsize = (8, 6), fontsize = 12, colormap = 'Set1')\n",
    "vals = ax.get_yticks()\n",
    "ax.set_xlabel('Number of reviews per user')\n",
    "ax.set_ylabel('Proportion of users')"
   ]
  },
  {
   "cell_type": "code",
   "execution_count": 50,
   "metadata": {},
   "outputs": [],
   "source": [
    "review_summary = ratings_pd.groupby('user_id')['stars'].agg(['mean', 'count'])"
   ]
  },
  {
   "cell_type": "code",
   "execution_count": 51,
   "metadata": {},
   "outputs": [
    {
     "data": {
      "text/plain": [
       "3.9670738821591573"
      ]
     },
     "execution_count": 51,
     "metadata": {},
     "output_type": "execute_result"
    }
   ],
   "source": [
    "# Average rating of users who reviewed one restaurant\n",
    "review_summary.loc[review_summary['count'] == 1]['mean'].mean()"
   ]
  },
  {
   "cell_type": "code",
   "execution_count": 52,
   "metadata": {},
   "outputs": [
    {
     "data": {
      "text/plain": [
       "3.765565814525682"
      ]
     },
     "execution_count": 52,
     "metadata": {},
     "output_type": "execute_result"
    }
   ],
   "source": [
    "# Average rating of users who reviewed more than one restaurant\n",
    "review_summary.loc[review_summary['count'] > 100]['mean'].mean()"
   ]
  },
  {
   "cell_type": "markdown",
   "metadata": {},
   "source": [
    "## Prepare data for LightFM in sparse matrices"
   ]
  },
  {
   "cell_type": "code",
   "execution_count": 62,
   "metadata": {},
   "outputs": [],
   "source": [
    "# Get indices for each user for matrix construction\n",
    "user_map = {}\n",
    "unique_user_ids = set(ratings_pd.loc[:, 'user_id'])\n",
    "for x in enumerate(unique_user_ids):\n",
    "  val, key = x\n",
    "  if key not in user_map:\n",
    "    user_map[key] = val"
   ]
  },
  {
   "cell_type": "code",
   "execution_count": 63,
   "metadata": {},
   "outputs": [],
   "source": [
    "# Get indices for each item for matrix construction\n",
    "business_map = {}\n",
    "business_ids = set(ratings_pd.loc[:, 'business_id'])\n",
    "for x in enumerate(business_ids):\n",
    "  val, key = x\n",
    "  if key not in business_map:\n",
    "      business_map[key] = val"
   ]
  },
  {
   "cell_type": "code",
   "execution_count": 64,
   "metadata": {},
   "outputs": [],
   "source": [
    "# Build sparse matrix for LightFM models\n",
    "def build_user_item_coo(full_data, user_map = user_map, business_map = business_map):\n",
    "    dok = sp.dok_matrix((len(user_map), len(business_map)), dtype = np.float32)\n",
    "    \n",
    "    def get_index(index_map, key):\n",
    "        return index_map[key]\n",
    "    \n",
    "    for i in range(full_data.shape[0]):\n",
    "        user_id = full_data.loc[i, 'user_id']\n",
    "        user_index = get_index(user_map, user_id)\n",
    "        rating = full_data.loc[i, 'stars']\n",
    "        business_id = full_data.loc[i, 'business_id']\n",
    "        business_index = get_index(business_map, business_id)\n",
    "        dok[user_index, business_index] = rating\n",
    "\n",
    "    return dok.tocoo()"
   ]
  },
  {
   "cell_type": "code",
   "execution_count": 65,
   "metadata": {},
   "outputs": [],
   "source": [
    "user_item_coo = build_user_item_coo(ratings_pd)"
   ]
  },
  {
   "cell_type": "code",
   "execution_count": 66,
   "metadata": {},
   "outputs": [
    {
     "data": {
      "text/plain": [
       "<278296x2843 sparse matrix of type '<class 'numpy.float32'>'\n",
       "\twith 681133 stored elements in COOrdinate format>"
      ]
     },
     "execution_count": 66,
     "metadata": {},
     "output_type": "execute_result"
    }
   ],
   "source": [
    "user_item_coo"
   ]
  },
  {
   "cell_type": "code",
   "execution_count": 123,
   "metadata": {},
   "outputs": [],
   "source": [
    "# split into training and test set\n",
    "from lightfm.cross_validation import random_train_test_split\n",
    "\n",
    "train, test = random_train_test_split(user_item_coo, test_percentage = 0.3)"
   ]
  },
  {
   "cell_type": "markdown",
   "metadata": {},
   "source": [
    "## LightFM models"
   ]
  },
  {
   "cell_type": "code",
   "execution_count": 68,
   "metadata": {},
   "outputs": [],
   "source": [
    "from lightfm import LightFM\n",
    "from lightfm.evaluation import precision_at_k\n",
    "from lightfm.evaluation import recall_at_k\n",
    "from lightfm.evaluation import auc_score"
   ]
  },
  {
   "cell_type": "code",
   "execution_count": 83,
   "metadata": {},
   "outputs": [],
   "source": [
    "learning_rates = [0.01, 0.001, 0.0001]\n",
    "\n",
    "adagrad_precision = []\n",
    "adadelta_precision = []\n",
    "\n",
    "for rate in learning_rates:\n",
    "    adagrad_model = LightFM(no_components=20,\n",
    "                            loss='warp',\n",
    "                            learning_schedule='adagrad',\n",
    "                            learning_rate = rate,\n",
    "                            k = 5)\n",
    "    adagrad_model.fit(train, epochs=15)\n",
    "    adagrad_precision.append(precision_at_k(adagrad_model, test).mean())\n",
    "    \n",
    "    adadelta_model = LightFM(no_components=20,\n",
    "                            loss='warp',\n",
    "                            learning_schedule='adadelta', \n",
    "                            learning_rate = rate, \n",
    "                            k = 5)\n",
    "    adadelta_model.fit(train, epochs=15)\n",
    "    adadelta_precision.append(precision_at_k(adadelta_model, test).mean())"
   ]
  },
  {
   "cell_type": "code",
   "execution_count": 360,
   "metadata": {},
   "outputs": [
    {
     "data": {
      "image/png": "[encoded data removed]",
      "text/plain": [
       "<matplotlib.figure.Figure at 0x11b2bc9b0>"
      ]
     },
     "metadata": {},
     "output_type": "display_data"
    }
   ],
   "source": [
    "# results using varying number of components, item_alpha = 1e-06, user_alpha = 0.01, loss = 'warp'\n",
    "x = no_components\n",
    "plt.plot(x, np.array(adagrad_auc))\n",
    "plt.plot(x, np.array(adadelta_auc))\n",
    "plt.legend(['adagrad', 'adadelta'], loc='lower right')\n",
    "plt.show()"
   ]
  },
  {
   "cell_type": "code",
   "execution_count": 172,
   "metadata": {},
   "outputs": [
    {
     "data": {
      "image/png": "[encoded data removed]",
      "text/plain": [
       "<matplotlib.figure.Figure at 0x14917c278>"
      ]
     },
     "metadata": {},
     "output_type": "display_data"
    }
   ],
   "source": [
    "# Testing optimum epochs; results using no_components = 30, item_alpha = 1e-06, loss = 'warp'\n",
    "x = np.arange(len(adagrad_auc))\n",
    "plt.plot(x, np.array(adagrad_auc))\n",
    "plt.plot(x, np.array(adadelta_auc))\n",
    "plt.legend(['adagrad', 'adadelta'], loc='lower right')\n",
    "plt.show()"
   ]
  },
  {
   "cell_type": "markdown",
   "metadata": {},
   "source": [
    "### Testing different loss functions"
   ]
  },
  {
   "cell_type": "markdown",
   "metadata": {},
   "source": [
    "#### bpr - Bayesian Personalised Ranking pairwise loss"
   ]
  },
  {
   "cell_type": "code",
   "execution_count": 105,
   "metadata": {},
   "outputs": [
    {
     "name": "stdout",
     "output_type": "stream",
     "text": [
      "Precision: train 0.10, test 0.01.\n"
     ]
    },
    {
     "data": {
      "image/png": "[encoded data removed]",
      "text/plain": [
       "<matplotlib.figure.Figure at 0x11d4f2d30>"
      ]
     },
     "metadata": {},
     "output_type": "display_data"
    }
   ],
   "source": [
    "bpr_model = LightFM(learning_rate = 0.01, loss = 'bpr', learning_schedule='adadelta')\n",
    "bpr_model.fit(train, epochs = 10)"
   ]
  },
  {
   "cell_type": "code",
   "execution_count": 113,
   "metadata": {},
   "outputs": [
    {
     "name": "stdout",
     "output_type": "stream",
     "text": [
      "Precision: train 0.10, test 0.01.\n",
      "AUC: train 0.88, test 0.52.\n"
     ]
    },
    {
     "data": {
      "image/png": "[encoded data removed]",
      "text/plain": [
       "<matplotlib.figure.Figure at 0x141fac978>"
      ]
     },
     "metadata": {},
     "output_type": "display_data"
    }
   ],
   "source": [
    "bpr_test_precision = precision_at_k(bpr_model, test, k=5)\n",
    "bpr_test_recall = recall_at_k(bpr_model, test, k=5)\n",
    "\n",
    "plt.hist(bpr_test_precision)\n",
    "\n",
    "bpr_train_auc = auc_score(bpr_model, train).mean()\n",
    "bpr_test_auc = auc_score(bpr_model, test).mean()\n",
    "\n",
    "print('Precision: train %.2f, test %.2f.' % (bpr_train_precision.mean(), bpr_test_precision.mean()))\n",
    "print('AUC: train %.2f, test %.2f.' % (bpr_train_auc, bpr_test_auc))"
   ]
  },
  {
   "cell_type": "markdown",
   "metadata": {},
   "source": [
    "#### warp - Weighted Approximate-Rank Pairwise loss\n",
    "##### Useful when only positive interactions are present and optimising the top of the recommendation list (precision@k) is desired)"
   ]
  },
  {
   "cell_type": "code",
   "execution_count": null,
   "metadata": {},
   "outputs": [],
   "source": [
    "warp_model = LightFM(learning_rate = 0.01, loss = 'warp', learning_schedule='adadelta', user_alpha = 0.01, item_alpha = 1e-6)\n",
    "warp_model.fit(train, epochs = 15)"
   ]
  },
  {
   "cell_type": "code",
   "execution_count": 114,
   "metadata": {},
   "outputs": [
    {
     "name": "stdout",
     "output_type": "stream",
     "text": [
      "Precision: train 0.02, test 0.01.\n",
      "AUC: train 0.83, test 0.82.\n"
     ]
    },
    {
     "data": {
      "image/png": "[encoded data removed]",
      "text/plain": [
       "<matplotlib.figure.Figure at 0x144fe0048>"
      ]
     },
     "metadata": {},
     "output_type": "display_data"
    }
   ],
   "source": [
    "warp_test_precision = precision_at_k(warp_model, test, k=5)\n",
    "warp_test_recall = recall_at_k(warp_model, test, k=5)\n",
    "\n",
    "plt.hist(warp_test_precision)\n",
    "#plt.hist(warp_test_recall)\n",
    "\n",
    "warp_train_auc = auc_score(warp_model, train).mean()\n",
    "warp_test_auc = auc_score(warp_model, test).mean()\n",
    "\n",
    "print('Precision: train %.2f, test %.2f.' % (warp_train_precision.mean(), warp_test_precision.mean()))\n",
    "print('AUC: train %.2f, test %.2f.' % (warp_train_auc, warp_test_auc))"
   ]
  },
  {
   "cell_type": "code",
   "execution_count": 127,
   "metadata": {},
   "outputs": [
    {
     "data": {
      "text/plain": [
       "(array([8.3498e+04, 1.7500e+02, 2.4500e+02, 3.6000e+02, 8.0000e+00,\n",
       "        9.5500e+02, 3.2000e+01, 0.0000e+00, 0.0000e+00, 3.7730e+03]),\n",
       " array([0. , 0.1, 0.2, 0.3, 0.4, 0.5, 0.6, 0.7, 0.8, 0.9, 1. ]),\n",
       " <a list of 10 Patch objects>)"
      ]
     },
     "execution_count": 127,
     "metadata": {},
     "output_type": "execute_result"
    },
    {
     "data": {
      "image/png": "[encoded data removed]",
      "text/plain": [
       "<matplotlib.figure.Figure at 0x104d47cf8>"
      ]
     },
     "metadata": {},
     "output_type": "display_data"
    }
   ],
   "source": [
    "plt.hist(warp_test_recall)"
   ]
  },
  {
   "cell_type": "code",
   "execution_count": null,
   "metadata": {},
   "outputs": [],
   "source": [
    "## MAKE PREDICTIONS \n",
    "\n",
    "warp_prediction = warp_model.predict_rank(test)\n",
    "warp_prediction.toarray().take(0, axis = 1)"
   ]
  },
  {
   "cell_type": "markdown",
   "metadata": {},
   "source": [
    "#### k-OS"
   ]
  },
  {
   "cell_type": "code",
   "execution_count": 35,
   "metadata": {},
   "outputs": [
    {
     "name": "stdout",
     "output_type": "stream",
     "text": [
      "Precision: train 0.05, test 0.01.\n",
      "AUC: train 0.93, test 0.82.\n"
     ]
    }
   ],
   "source": [
    "kOS_model = LightFM(learning_rate = 0.01, loss = \"warp-kos\", no_components = 20)\n",
    "kOS_model.fit(train, epochs = 30)\n",
    "\n",
    "kOS_train_precision = precision_at_k(kOS_model, train, k=10).mean()\n",
    "kOS_test_precision = precision_at_k(kOS_model, test, k=10).mean()\n",
    "\n",
    "kOS_train_auc = auc_score(kOS_model, train).mean()\n",
    "kOS_test_auc = auc_score(kOS_model, test).mean()\n",
    "\n",
    "print('Precision: train %.2f, test %.2f.' % (kOS_train_precision, kOS_test_precision))\n",
    "print('AUC: train %.2f, test %.2f.' % (kOS_train_auc, kOS_test_auc))"
   ]
  },
  {
   "cell_type": "markdown",
   "metadata": {},
   "source": [
    "#### Collaborative Filtering"
   ]
  },
  {
   "cell_type": "code",
   "execution_count": 128,
   "metadata": {},
   "outputs": [],
   "source": [
    "CF_model = LightFM(loss='warp',\n",
    "                   item_alpha=1e-6,\n",
    "                   learning_schedule = 'adadelta',\n",
    "                   user_alpha = 0.01, \n",
    "                   no_components=20)\n",
    "\n",
    "CF_model = CF_model.fit(train, epochs=15, num_threads=4)"
   ]
  },
  {
   "cell_type": "code",
   "execution_count": 129,
   "metadata": {},
   "outputs": [
    {
     "name": "stdout",
     "output_type": "stream",
     "text": [
      "Collaborative filtering train AUC: 0.82691723\n",
      "Collaborative filtering test AUC: 0.8220353\n"
     ]
    }
   ],
   "source": [
    "CF_train_auc = auc_score(CF_model, train, num_threads=4).mean()\n",
    "print('Collaborative filtering train AUC: %s' % CF_train_auc)\n",
    "\n",
    "CF_test_auc = auc_score(CF_model, test, train_interactions=train, num_threads=4).mean()\n",
    "print('Collaborative filtering test AUC: %s' % CF_test_auc)"
   ]
  },
  {
   "cell_type": "code",
   "execution_count": 130,
   "metadata": {},
   "outputs": [
    {
     "data": {
      "text/plain": [
       "(array([1.13561e+05, 0.00000e+00, 8.03900e+03, 0.00000e+00, 3.71000e+02,\n",
       "        0.00000e+00, 2.90000e+01, 0.00000e+00, 1.00000e+00, 1.00000e+00]),\n",
       " array([0. , 0.1, 0.2, 0.3, 0.4, 0.5, 0.6, 0.7, 0.8, 0.9, 1. ]),\n",
       " <a list of 10 Patch objects>)"
      ]
     },
     "execution_count": 130,
     "metadata": {},
     "output_type": "execute_result"
    },
    {
     "data": {
      "image/png": "[encoded data removed]",
      "text/plain": [
       "<matplotlib.figure.Figure at 0x1456bfe10>"
      ]
     },
     "metadata": {},
     "output_type": "display_data"
    }
   ],
   "source": [
    "CF_test_precision = precision_at_k(CF_model, test, k=5)\n",
    "plt.hist(CF_test_precision)"
   ]
  },
  {
   "cell_type": "markdown",
   "metadata": {},
   "source": [
    "####  Precision will be low because most users have only reviewed one or two restaurants, so when you take the mean of all precision_at_k  results, it will be low"
   ]
  },
  {
   "cell_type": "code",
   "execution_count": 538,
   "metadata": {},
   "outputs": [],
   "source": [
    "CF_test_recall = recall_at_k(CF_model, test, k=5)"
   ]
  },
  {
   "cell_type": "code",
   "execution_count": 539,
   "metadata": {},
   "outputs": [
    {
     "data": {
      "text/plain": [
       "(array([7.904e+04, 3.450e+02, 4.930e+02, 5.390e+02, 2.500e+01, 1.531e+03,\n",
       "        4.500e+01, 1.000e+00, 0.000e+00, 7.475e+03]),\n",
       " array([0. , 0.1, 0.2, 0.3, 0.4, 0.5, 0.6, 0.7, 0.8, 0.9, 1. ]),\n",
       " <a list of 10 Patch objects>)"
      ]
     },
     "execution_count": 539,
     "metadata": {},
     "output_type": "execute_result"
    },
    {
     "data": {
      "image/png": "[encoded data removed]",
      "text/plain": [
       "<matplotlib.figure.Figure at 0x11832deb8>"
      ]
     },
     "metadata": {},
     "output_type": "display_data"
    }
   ],
   "source": [
    "plt.hist(CF_test_recall)"
   ]
  },
  {
   "cell_type": "markdown",
   "metadata": {},
   "source": [
    "## LightFM Hybrid Models"
   ]
  },
  {
   "cell_type": "markdown",
   "metadata": {},
   "source": [
    "### Prepare features data"
   ]
  },
  {
   "cell_type": "code",
   "execution_count": 219,
   "metadata": {},
   "outputs": [],
   "source": [
    "category_attributes = get_categories(restaurant_data)\n",
    "\n",
    "category_attributes = OrderedDict(sorted(category_attributes.items()))"
   ]
  },
  {
   "cell_type": "code",
   "execution_count": 220,
   "metadata": {},
   "outputs": [],
   "source": [
    "# Remove 'Restaurants' from category_attributes\n",
    "del category_attributes['Restaurants']"
   ]
  },
  {
   "cell_type": "code",
   "execution_count": 221,
   "metadata": {},
   "outputs": [],
   "source": [
    "# Create dict of category and indices to be used for matrix building/retrieval\n",
    "category_map = {}\n",
    "for x in enumerate(category_attributes):\n",
    "  val, key = x\n",
    "  category_map[key] = val"
   ]
  },
  {
   "cell_type": "code",
   "execution_count": 222,
   "metadata": {},
   "outputs": [],
   "source": [
    "restaurant_data = restaurant_data.toPandas()"
   ]
  },
  {
   "cell_type": "code",
   "execution_count": 223,
   "metadata": {},
   "outputs": [],
   "source": [
    "# Get additional features we want for hybrid model\n",
    "features = df_LV.select('business_id', 'stars', \n",
    "                     'attributes.Ambience.casual', 'attributes.Ambience.classy', 'attributes.Ambience.divey', \n",
    "                     'attributes.Ambience.hipster', 'attributes.Ambience.intimate', 'attributes.Ambience.romantic',\n",
    "                     'attributes.Ambience.touristy', 'attributes.Ambience.trendy', 'attributes.Ambience.upscale', \n",
    "                     'attributes.DietaryRestrictions.dairy-free', 'attributes.DietaryRestrictions.gluten-free', \n",
    "                     'attributes.DietaryRestrictions.halal', 'attributes.DietaryRestrictions.kosher', \n",
    "                     'attributes.DietaryRestrictions.soy-free', 'attributes.DietaryRestrictions.vegan', \n",
    "                     'attributes.DietaryRestrictions.vegetarian', 'attributes.HappyHour', \n",
    "                     'attributes.NoiseLevel', 'attributes.OutdoorSeating', 'attributes.RestaurantsAttire', \n",
    "                     'attributes.RestaurantsGoodForGroups', 'attributes.RestaurantsPriceRange2', \n",
    "                     'attributes.RestaurantsTableService', 'attributes.RestaurantsReservations', \n",
    "                     'attributes.RestaurantsTakeOut', 'attributes.WheelchairAccessible')"
   ]
  },
  {
   "cell_type": "code",
   "execution_count": 224,
   "metadata": {},
   "outputs": [],
   "source": [
    "features_pd = features.toPandas()"
   ]
  },
  {
   "cell_type": "code",
   "execution_count": 225,
   "metadata": {},
   "outputs": [],
   "source": [
    "features_pd = features_pd.fillna(0)"
   ]
  },
  {
   "cell_type": "code",
   "execution_count": 226,
   "metadata": {},
   "outputs": [],
   "source": [
    "# One-hot encode NoiseLevel, RestaurantsAttire, and PriceRange2 variables\n",
    "features_pd = pd.get_dummies(features_pd, columns = ['NoiseLevel', 'RestaurantsAttire', 'RestaurantsPriceRange2'], drop_first = True)"
   ]
  },
  {
   "cell_type": "code",
   "execution_count": 227,
   "metadata": {},
   "outputs": [],
   "source": [
    "# Turn boolean columns to 1 and 0\n",
    "\n",
    "for name, values in features_pd.iteritems():\n",
    "    if type(features_pd.loc[0, name]) == bool:\n",
    "        features_pd.loc[:, name] = features_pd.loc[:, name].astype(int)"
   ]
  },
  {
   "cell_type": "code",
   "execution_count": 153,
   "metadata": {},
   "outputs": [
    {
     "data": {
      "text/html": [
       "<div>\n",
       "<style scoped>\n",
       "    .dataframe tbody tr th:only-of-type {\n",
       "        vertical-align: middle;\n",
       "    }\n",
       "\n",
       "    .dataframe tbody tr th {\n",
       "        vertical-align: top;\n",
       "    }\n",
       "\n",
       "    .dataframe thead th {\n",
       "        text-align: right;\n",
       "    }\n",
       "</style>\n",
       "<table border=\"1\" class=\"dataframe\">\n",
       "  <thead>\n",
       "    <tr style=\"text-align: right;\">\n",
       "      <th></th>\n",
       "      <th>business_id</th>\n",
       "      <th>stars</th>\n",
       "      <th>casual</th>\n",
       "      <th>classy</th>\n",
       "      <th>divey</th>\n",
       "      <th>hipster</th>\n",
       "      <th>intimate</th>\n",
       "      <th>romantic</th>\n",
       "      <th>touristy</th>\n",
       "      <th>trendy</th>\n",
       "      <th>...</th>\n",
       "      <th>NoiseLevel_loud</th>\n",
       "      <th>NoiseLevel_quiet</th>\n",
       "      <th>NoiseLevel_very_loud</th>\n",
       "      <th>RestaurantsAttire_casual</th>\n",
       "      <th>RestaurantsAttire_dressy</th>\n",
       "      <th>RestaurantsAttire_formal</th>\n",
       "      <th>RestaurantsPriceRange2_1.0</th>\n",
       "      <th>RestaurantsPriceRange2_2.0</th>\n",
       "      <th>RestaurantsPriceRange2_3.0</th>\n",
       "      <th>RestaurantsPriceRange2_4.0</th>\n",
       "    </tr>\n",
       "  </thead>\n",
       "  <tbody>\n",
       "    <tr>\n",
       "      <th>0</th>\n",
       "      <td>Pd52CjgyEU3Rb8co6QfTPw</td>\n",
       "      <td>4.0</td>\n",
       "      <td>1</td>\n",
       "      <td>0</td>\n",
       "      <td>0</td>\n",
       "      <td>0</td>\n",
       "      <td>0</td>\n",
       "      <td>0</td>\n",
       "      <td>0</td>\n",
       "      <td>0</td>\n",
       "      <td>...</td>\n",
       "      <td>0</td>\n",
       "      <td>0</td>\n",
       "      <td>0</td>\n",
       "      <td>1</td>\n",
       "      <td>0</td>\n",
       "      <td>0</td>\n",
       "      <td>0</td>\n",
       "      <td>1</td>\n",
       "      <td>0</td>\n",
       "      <td>0</td>\n",
       "    </tr>\n",
       "    <tr>\n",
       "      <th>1</th>\n",
       "      <td>W1Yr6c2XDx_RBjb6WsV-aQ</td>\n",
       "      <td>4.0</td>\n",
       "      <td>1</td>\n",
       "      <td>0</td>\n",
       "      <td>0</td>\n",
       "      <td>0</td>\n",
       "      <td>0</td>\n",
       "      <td>0</td>\n",
       "      <td>0</td>\n",
       "      <td>0</td>\n",
       "      <td>...</td>\n",
       "      <td>0</td>\n",
       "      <td>0</td>\n",
       "      <td>0</td>\n",
       "      <td>1</td>\n",
       "      <td>0</td>\n",
       "      <td>0</td>\n",
       "      <td>0</td>\n",
       "      <td>1</td>\n",
       "      <td>0</td>\n",
       "      <td>0</td>\n",
       "    </tr>\n",
       "    <tr>\n",
       "      <th>2</th>\n",
       "      <td>Uy3_5nLo3sYkAuSX6mjdmg</td>\n",
       "      <td>4.5</td>\n",
       "      <td>1</td>\n",
       "      <td>0</td>\n",
       "      <td>0</td>\n",
       "      <td>0</td>\n",
       "      <td>0</td>\n",
       "      <td>0</td>\n",
       "      <td>0</td>\n",
       "      <td>0</td>\n",
       "      <td>...</td>\n",
       "      <td>0</td>\n",
       "      <td>0</td>\n",
       "      <td>0</td>\n",
       "      <td>1</td>\n",
       "      <td>0</td>\n",
       "      <td>0</td>\n",
       "      <td>0</td>\n",
       "      <td>1</td>\n",
       "      <td>0</td>\n",
       "      <td>0</td>\n",
       "    </tr>\n",
       "    <tr>\n",
       "      <th>3</th>\n",
       "      <td>dPxZI9lrKTl5dvFfnb1_Ig</td>\n",
       "      <td>4.5</td>\n",
       "      <td>1</td>\n",
       "      <td>0</td>\n",
       "      <td>0</td>\n",
       "      <td>0</td>\n",
       "      <td>1</td>\n",
       "      <td>0</td>\n",
       "      <td>0</td>\n",
       "      <td>0</td>\n",
       "      <td>...</td>\n",
       "      <td>0</td>\n",
       "      <td>0</td>\n",
       "      <td>0</td>\n",
       "      <td>1</td>\n",
       "      <td>0</td>\n",
       "      <td>0</td>\n",
       "      <td>0</td>\n",
       "      <td>1</td>\n",
       "      <td>0</td>\n",
       "      <td>0</td>\n",
       "    </tr>\n",
       "    <tr>\n",
       "      <th>4</th>\n",
       "      <td>u29lf2yPd-qK5ThAS9FRQQ</td>\n",
       "      <td>4.5</td>\n",
       "      <td>1</td>\n",
       "      <td>0</td>\n",
       "      <td>0</td>\n",
       "      <td>0</td>\n",
       "      <td>0</td>\n",
       "      <td>0</td>\n",
       "      <td>0</td>\n",
       "      <td>0</td>\n",
       "      <td>...</td>\n",
       "      <td>0</td>\n",
       "      <td>1</td>\n",
       "      <td>0</td>\n",
       "      <td>1</td>\n",
       "      <td>0</td>\n",
       "      <td>0</td>\n",
       "      <td>0</td>\n",
       "      <td>1</td>\n",
       "      <td>0</td>\n",
       "      <td>0</td>\n",
       "    </tr>\n",
       "  </tbody>\n",
       "</table>\n",
       "<p>5 rows × 36 columns</p>\n",
       "</div>"
      ],
      "text/plain": [
       "              business_id  stars  casual  classy  divey  hipster  intimate  \\\n",
       "0  Pd52CjgyEU3Rb8co6QfTPw    4.0       1       0      0        0         0   \n",
       "1  W1Yr6c2XDx_RBjb6WsV-aQ    4.0       1       0      0        0         0   \n",
       "2  Uy3_5nLo3sYkAuSX6mjdmg    4.5       1       0      0        0         0   \n",
       "3  dPxZI9lrKTl5dvFfnb1_Ig    4.5       1       0      0        0         1   \n",
       "4  u29lf2yPd-qK5ThAS9FRQQ    4.5       1       0      0        0         0   \n",
       "\n",
       "   romantic  touristy  trendy             ...              NoiseLevel_loud  \\\n",
       "0         0         0       0             ...                            0   \n",
       "1         0         0       0             ...                            0   \n",
       "2         0         0       0             ...                            0   \n",
       "3         0         0       0             ...                            0   \n",
       "4         0         0       0             ...                            0   \n",
       "\n",
       "  NoiseLevel_quiet NoiseLevel_very_loud RestaurantsAttire_casual  \\\n",
       "0                0                    0                        1   \n",
       "1                0                    0                        1   \n",
       "2                0                    0                        1   \n",
       "3                0                    0                        1   \n",
       "4                1                    0                        1   \n",
       "\n",
       "  RestaurantsAttire_dressy RestaurantsAttire_formal  \\\n",
       "0                        0                        0   \n",
       "1                        0                        0   \n",
       "2                        0                        0   \n",
       "3                        0                        0   \n",
       "4                        0                        0   \n",
       "\n",
       "  RestaurantsPriceRange2_1.0 RestaurantsPriceRange2_2.0  \\\n",
       "0                          0                          1   \n",
       "1                          0                          1   \n",
       "2                          0                          1   \n",
       "3                          0                          1   \n",
       "4                          0                          1   \n",
       "\n",
       "   RestaurantsPriceRange2_3.0  RestaurantsPriceRange2_4.0  \n",
       "0                           0                           0  \n",
       "1                           0                           0  \n",
       "2                           0                           0  \n",
       "3                           0                           0  \n",
       "4                           0                           0  \n",
       "\n",
       "[5 rows x 36 columns]"
      ]
     },
     "execution_count": 153,
     "metadata": {},
     "output_type": "execute_result"
    }
   ],
   "source": [
    "features_pd.head()"
   ]
  },
  {
   "cell_type": "code",
   "execution_count": 228,
   "metadata": {},
   "outputs": [],
   "source": [
    "# Create dict of features indices to be used in features matrix\n",
    "features_map = {}\n",
    "for x in enumerate(list(features_pd.iloc[:, 1:])):\n",
    "  val, key = x\n",
    "  features_map[key] = val+len(category_attributes)"
   ]
  },
  {
   "cell_type": "code",
   "execution_count": 229,
   "metadata": {},
   "outputs": [],
   "source": [
    "# Build sparse matrix for restaurant features\n",
    "def build_feature_csr(business_data, business_map = business_map, category_map = category_map, features_pd = features_pd, features_map = features_map):\n",
    "    # initialize sparse matrix\n",
    "    dok = sp.dok_matrix((business_data.shape[0], len(category_map)+len(features_map)), dtype=np.int8)\n",
    "\n",
    "    def get_index(index_map, key):\n",
    "        return index_map[key]\n",
    "    \n",
    "    # One-hot encode categories\n",
    "    for i in range(business_data.shape[0]):\n",
    "        business_id = business_data.loc[i, 'business_id']\n",
    "        row_i = get_index(business_map, business_id)\n",
    "        categories = business_data.loc[i, 'categories']\n",
    "        for c in categories:\n",
    "            if c in category_map:\n",
    "                dok[row_i, get_index(category_map, c)] = 1\n",
    "            else: continue \n",
    "        \n",
    "    for j in range(features_pd.shape[0]):\n",
    "        b_id = features_pd.loc[j, 'business_id']\n",
    "        row_i = get_index(business_map, b_id)\n",
    "        features = features_pd.iloc[j, 1:35]\n",
    "        for f, v in features.iteritems():\n",
    "            dok[row_i, get_index(features_map, f)] = v\n",
    "\n",
    "    return dok.tocsr()"
   ]
  },
  {
   "cell_type": "code",
   "execution_count": 235,
   "metadata": {},
   "outputs": [],
   "source": [
    "item_features = build_feature_csr(restaurant_data)"
   ]
  },
  {
   "cell_type": "code",
   "execution_count": 236,
   "metadata": {},
   "outputs": [],
   "source": [
    "identity_mat = sp.identity(restaurant_data.shape[0], dtype = 'int8', format = 'csr')\n",
    "\n",
    "item_features = sp.hstack([item_features, identity_mat])"
   ]
  },
  {
   "cell_type": "code",
   "execution_count": 232,
   "metadata": {},
   "outputs": [],
   "source": [
    "# Define a hybrid model instance\n",
    "hybridModel = LightFM(loss='warp',\n",
    "                item_alpha=1e-6,\n",
    "                user_alpha=.1,\n",
    "                no_components=30)\n",
    "\n",
    "# Fit the hybrid model\n",
    "hybridModel = hybridModel.fit(train,\n",
    "                item_features=item_features,\n",
    "                epochs=30,\n",
    "                num_threads=4)"
   ]
  },
  {
   "cell_type": "code",
   "execution_count": 237,
   "metadata": {},
   "outputs": [
    {
     "name": "stdout",
     "output_type": "stream",
     "text": [
      "Hybrid training set AUC: 0.83911675\n"
     ]
    }
   ],
   "source": [
    "hybrid_train_auc = auc_score(hybridModel,\n",
    "                      train,\n",
    "                      item_features=item_features,\n",
    "                      num_threads=4).mean()\n",
    "print('Hybrid training set AUC: %s' % hybrid_train_auc)"
   ]
  },
  {
   "cell_type": "code",
   "execution_count": 238,
   "metadata": {},
   "outputs": [
    {
     "name": "stdout",
     "output_type": "stream",
     "text": [
      "Hybrid test set AUC: 0.78508353\n"
     ]
    }
   ],
   "source": [
    "hybrid_test_auc = auc_score(hybridModel,\n",
    "                    test,\n",
    "                    train_interactions=train,\n",
    "                    item_features=item_features,\n",
    "                    num_threads=4).mean()\n",
    "print('Hybrid test set AUC: %s' % hybrid_test_auc)"
   ]
  },
  {
   "cell_type": "code",
   "execution_count": 542,
   "metadata": {},
   "outputs": [],
   "source": [
    "hybridtest_precision = precision_at_k(hybridModel, test, item_features = item_features, k=5)"
   ]
  },
  {
   "cell_type": "code",
   "execution_count": 544,
   "metadata": {},
   "outputs": [
    {
     "data": {
      "text/plain": [
       "0.0065613347"
      ]
     },
     "execution_count": 544,
     "metadata": {},
     "output_type": "execute_result"
    }
   ],
   "source": [
    "hybridtest_precision.mean()"
   ]
  },
  {
   "cell_type": "code",
   "execution_count": 543,
   "metadata": {},
   "outputs": [
    {
     "data": {
      "text/plain": [
       "(array([8.6613e+04, 0.0000e+00, 0.0000e+00, 2.8270e+03, 0.0000e+00,\n",
       "        0.0000e+00, 5.3000e+01, 0.0000e+00, 0.0000e+00, 1.0000e+00]),\n",
       " array([0.        , 0.06      , 0.12      , 0.18000001, 0.24000001,\n",
       "        0.30000001, 0.36000001, 0.42000002, 0.48000002, 0.54000002,\n",
       "        0.60000002]),\n",
       " <a list of 10 Patch objects>)"
      ]
     },
     "execution_count": 543,
     "metadata": {},
     "output_type": "execute_result"
    },
    {
     "data": {
      "image/png": "[encoded data removed]",
      "text/plain": [
       "<matplotlib.figure.Figure at 0x11d82b5c0>"
      ]
     },
     "metadata": {},
     "output_type": "display_data"
    }
   ],
   "source": [
    "plt.hist(hybridtest_precision)"
   ]
  },
  {
   "cell_type": "code",
   "execution_count": 416,
   "metadata": {},
   "outputs": [],
   "source": [
    "# build array of restaurant name labels, with index matching \n",
    "def get_key(map, index):\n",
    "    return list(map.keys())[list(map.values()).index(index)]\n",
    "\n",
    "def get_index(index_map, key):\n",
    "    return index_map[key]\n",
    "\n",
    "business_ids = []\n",
    "for i in range(len(business_map)):\n",
    "    business_id = get_key(business_map, i)\n",
    "    business_ids.append(business_id)\n",
    "\n",
    "item_labels = []\n",
    "    \n",
    "for i in business_ids:\n",
    "    name = get_index(id_name_map, i)\n",
    "    item_labels.append(name)\n",
    "\n",
    "item_labels = np.asarray(item_labels)"
   ]
  },
  {
   "cell_type": "code",
   "execution_count": 427,
   "metadata": {},
   "outputs": [
    {
     "name": "stdout",
     "output_type": "stream",
     "text": [
      "User 21451\n",
      "     Known positives:\n",
      "        LAVO Italian Restaurant & Lounge\n",
      "     Recommended:\n",
      "        Mon Ami Gabi\n",
      "        Wicked Spoon\n",
      "        Bacchanal Buffet\n",
      "User 250521\n",
      "     Known positives:\n",
      "        Lakeside\n",
      "        Costa di Mare\n",
      "     Recommended:\n",
      "        Mon Ami Gabi\n",
      "        Bacchanal Buffet\n",
      "        Wicked Spoon\n",
      "User 29389\n",
      "     Known positives:\n",
      "        Egg & I\n",
      "        SNS Diner\n",
      "     Recommended:\n",
      "        Mon Ami Gabi\n",
      "        Wicked Spoon\n",
      "        Bacchanal Buffet\n"
     ]
    }
   ],
   "source": [
    "def sample_recommendation(model, data, user_index, user_map = user_map, item_labels = item_labels):\n",
    "    \n",
    "    def get_key(map, index):\n",
    "        return list(map.keys())[list(map.values()).index(index)]\n",
    "    \n",
    "    n_users, n_items = data.shape\n",
    "    \n",
    "    #user_ids = []\n",
    "    #for i in user_index:\n",
    "    #    user_id = get_key(user_map, i)\n",
    "    #    user_ids.append(user_id)\n",
    "    \n",
    "    for user_id in user_index:\n",
    "        #known_positives = data['item_labels'][data['train'].tocsr()[user_id].indices]\n",
    "        known_positives = item_labels[data.tocsr()[user_id].indices]\n",
    "        \n",
    "        # get score of all items in training set\n",
    "        scores = model.predict(user_id, np.arange(n_items))\n",
    "        \n",
    "        # get indices of top items\n",
    "        top_items = item_labels[np.argsort(-scores)]\n",
    "        \n",
    "        \n",
    "        print(\"User %s\" % user_id)\n",
    "        print(\"     Known positives:\")\n",
    "        \n",
    "        for x in known_positives[:3]:\n",
    "            print(\"        %s\" % x)\n",
    "\n",
    "        print(\"     Recommended:\")\n",
    "        \n",
    "        for x in top_items[:3]:\n",
    "            print(\"        %s\" % x)\n",
    "        \n",
    "sample_recommendation(CF_model, user_item_coo, [21451, 250521, 29389])"
   ]
  },
  {
   "cell_type": "code",
   "execution_count": 506,
   "metadata": {},
   "outputs": [],
   "source": [
    "def get_recommendation(model, data, user_index, new_user_features, item_labels = item_labels):\n",
    "\n",
    "    n_users, n_items = data.shape\n",
    "        \n",
    "    # get score of all items in training set\n",
    "    scores = CF_model.predict(user_index, item_ids = np.arange(n_items), user_features = new_user_features)\n",
    "        \n",
    "    # get indices of top items\n",
    "    top_items = item_labels[np.argsort(-scores)]\n",
    "\n",
    "    for x in top_items[:5]:\n",
    "        print(\"        %s\" % x)"
   ]
  },
  {
   "cell_type": "code",
   "execution_count": 535,
   "metadata": {},
   "outputs": [],
   "source": [
    "def get_recommendation(user_input_list, model=finalCFmodel, data=user_item_coo, item_labels=item_labels):\n",
    "\n",
    "    def get_b_indices(user_input_list, id_name_map = id_name_map, business_map = business_map):\n",
    "        \n",
    "        def get_key(id_name_map, values):\n",
    "            return list(id_name_map.keys())[list(id_name_map.values()).index(values)]\n",
    "        \n",
    "        def get_index(index_map, key):\n",
    "            return index_map[key]\n",
    "\n",
    "        b_ids = []\n",
    "        for i in user_input_list:\n",
    "            b_ids.append(get_key(id_name_map, i))\n",
    "            \n",
    "        b_indices = []\n",
    "        for i in b_ids:\n",
    "            b_indices.append(get_index(business_map, i))\n",
    "        \n",
    "        return (b_indices)\n",
    "\n",
    "\n",
    "    user_input_indices = get_b_indices(user_input_list)\n",
    "\n",
    "\n",
    "    def build_new_user_features(user_input_indices, data = data):\n",
    "\n",
    "        dok = sp.dok_matrix((1, data.shape[1]), dtype = np.float32)\n",
    "    \n",
    "        for i in user_input_indices:\n",
    "            dok[0, i] = 1\n",
    "    \n",
    "        return dok.tocsr()\n",
    "\n",
    "\n",
    "    new_user_features = build_new_user_features(user_input_indices)\n",
    " \n",
    "    # get score of all items in training set\n",
    "    scores = CF_model.predict(0, item_ids = np.arange(data.shape[1]), user_features = new_user_features)\n",
    "        \n",
    "    # get indices of top items\n",
    "    top_items = item_labels[np.argsort(-scores)]\n",
    "\n",
    "    for x in top_items[:5]:\n",
    "        print(\"        %s\" % x)"
   ]
  },
  {
   "cell_type": "code",
   "execution_count": 536,
   "metadata": {},
   "outputs": [
    {
     "name": "stdout",
     "output_type": "stream",
     "text": [
      "        Guy Fieri's Vegas Kitchen & Bar\n",
      "        Gordon Ramsay BurGR\n",
      "        Bacchanal Buffet\n",
      "        Shake Shack\n",
      "        Mon Ami Gabi\n"
     ]
    }
   ],
   "source": [
    "get_recommendation(['Montana Meat Company', 'bin 702'])"
   ]
  },
  {
   "cell_type": "code",
   "execution_count": null,
   "metadata": {},
   "outputs": [],
   "source": []
  }
 ],
 "metadata": {
  "kernelspec": {
   "display_name": "Python [Root]",
   "language": "python",
   "name": "Python [Root]"
  },
  "language_info": {
   "codemirror_mode": {
    "name": "ipython",
    "version": 3
   },
   "file_extension": ".py",
   "mimetype": "text/x-python",
   "name": "python",
   "nbconvert_exporter": "python",
   "pygments_lexer": "ipython3",
   "version": "3.5.2"
  }
 },
 "nbformat": 4,
 "nbformat_minor": 2
}
